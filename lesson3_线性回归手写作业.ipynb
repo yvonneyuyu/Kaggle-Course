{
 "cells": [
  {
   "cell_type": "markdown",
   "metadata": {},
   "source": [
    "theta1, theta2 = 0.0, 0.0"
   ]
  },
  {
   "cell_type": "markdown",
   "metadata": {},
   "source": [
    "alpha = 0.2\n",
    "for i in range(100):\n",
    "    theta1 = theta1 - alpha*2*(theta1-3)\n",
    "    theta2 = theta2 - alpha*2*(2*theta2 -5)*2\n",
    "    print(theta1,theta2)"
   ]
  },
  {
   "cell_type": "markdown",
   "metadata": {},
   "source": [
    "theta1, theta2 = 10.0,4.0"
   ]
  },
  {
   "cell_type": "markdown",
   "metadata": {},
   "source": [
    "for i in range(100):\n",
    "    alpha = 0.01\n",
    "    theta1 = theta1 - alpha*((2*theta2-5)**2)*2*(theta1-3)\n",
    "    theta2 = theta2 - alpha*((theta1-3)**2)*2*(2*theta2-5)*2\n",
    "    \n",
    "    print(theta1,theta2)\n",
    "    "
   ]
  },
  {
   "cell_type": "markdown",
   "metadata": {},
   "source": [
    "手写线性代数回归模型"
   ]
  },
  {
   "cell_type": "code",
   "execution_count": 347,
   "metadata": {},
   "outputs": [],
   "source": [
    "import pandas as pd\n",
    "import numpy as np\n",
    "import copy"
   ]
  },
  {
   "cell_type": "code",
   "execution_count": 387,
   "metadata": {},
   "outputs": [],
   "source": [
    "def LinearRegression(X, y, alpha):\n",
    "    n = X.shape[1]\n",
    "    theta = np.array([0.0] * n)\n",
    "    theta_test = np.array([1.0] * n)\n",
    "    baby = True\n",
    "    honey = True\n",
    "    #print(X,theta,theta_test)\n",
    "    c = 0\n",
    "\n",
    "    while baby:\n",
    "        c+=1\n",
    "        i = 0\n",
    "        #print(0,theta,theta_test)\n",
    "        while honey:\n",
    "            if i < n:\n",
    "                if abs(theta[i] - theta_test[i]) < 0.0000000001:\n",
    "                    i += 1\n",
    "                else:\n",
    "                    honey = False\n",
    "            else:\n",
    "                baby = False\n",
    "                break\n",
    "\n",
    "        #print(1,theta,theta_test)\n",
    "        epsilon = y\n",
    "        for i in range(n):\n",
    "            epsilon = epsilon - X[:,i] * theta[i]\n",
    "        \n",
    "        theta_test = copy.copy(theta)\n",
    "        #print(2,theta,theta_test)\n",
    "        for j in range(n):\n",
    "            gradient =   -2 * np.mean(epsilon* X[:,j])\n",
    "            theta[j] = theta[j] - alpha * gradient\n",
    "        #print(3,theta,theta_test)\n",
    "        honey = True\n",
    "               \n",
    "            \n",
    "    print(c)\n",
    "    return theta\n",
    "                \n",
    "                "
   ]
  },
  {
   "cell_type": "code",
   "execution_count": 388,
   "metadata": {},
   "outputs": [],
   "source": [
    "data = pd.read_csv('height_train.csv')\n",
    "data = data.iloc[0:50, :]\n",
    "data['constant'] = 1"
   ]
  },
  {
   "cell_type": "markdown",
   "metadata": {},
   "source": [
    "计算结果"
   ]
  },
  {
   "cell_type": "code",
   "execution_count": 389,
   "metadata": {},
   "outputs": [
    {
     "name": "stdout",
     "output_type": "stream",
     "text": [
      "169323\n"
     ]
    },
    {
     "data": {
      "text/plain": [
       "array([0.18654212, 0.25812658, 0.09660438, 0.90775472])"
      ]
     },
     "execution_count": 389,
     "metadata": {},
     "output_type": "execute_result"
    }
   ],
   "source": [
    "LinearRegression(data.loc[:,['father_height','mother_height','boy_dummy','constant']].values,data.child_height.values,0.1)"
   ]
  },
  {
   "cell_type": "markdown",
   "metadata": {},
   "source": [
    "验证结果"
   ]
  },
  {
   "cell_type": "code",
   "execution_count": 380,
   "metadata": {},
   "outputs": [
    {
     "name": "stdout",
     "output_type": "stream",
     "text": [
      "[0.18654192 0.258126   0.09660438] 0.9077560155109266\n"
     ]
    }
   ],
   "source": [
    "from sklearn.linear_model import LinearRegression\n",
    "LR = LinearRegression()\n",
    "LR.fit(data.loc[:,['father_height','mother_height','boy_dummy']].values,data.child_height.values)\n",
    "print(LR.coef_,LR.intercept_)\n"
   ]
  },
  {
   "cell_type": "code",
   "execution_count": null,
   "metadata": {},
   "outputs": [],
   "source": []
  }
 ],
 "metadata": {
  "kernelspec": {
   "display_name": "Python 3",
   "language": "python",
   "name": "python3"
  },
  "language_info": {
   "codemirror_mode": {
    "name": "ipython",
    "version": 3
   },
   "file_extension": ".py",
   "mimetype": "text/x-python",
   "name": "python",
   "nbconvert_exporter": "python",
   "pygments_lexer": "ipython3",
   "version": "3.7.3"
  }
 },
 "nbformat": 4,
 "nbformat_minor": 2
}
