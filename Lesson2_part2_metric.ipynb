{
 "cells": [
  {
   "cell_type": "code",
   "execution_count": null,
   "metadata": {},
   "outputs": [],
   "source": [
    "##confusion metric\n",
    "# ture positive\n",
    "def get_TP(y_true, y_pred):\n",
    "    return sum((y_true==1) & (y_pred==1))\n",
    "    \n",
    "# false positive\n",
    "def get_FP(y_true, y_pred):\n",
    "    return sum((y_true==0) & (y_pred==1))\n",
    "   \n",
    "# false negetive\n",
    "def get_FN(y_true, y_pred):\n",
    "    return sum((y_true==1) & (y_pred==0))\n",
    "   \n",
    "#true negative\n",
    "def get_TN(y_true, y_pred):\n",
    "    return sum((y_true==0) & (y_pred==0))"
   ]
  },
  {
   "cell_type": "code",
   "execution_count": null,
   "metadata": {},
   "outputs": [],
   "source": [
    "#accuracy：分类准确率——对于给定的测试数据集，分类器正确分类样本的数与总样本数的比\n",
    "accuracy = (TP + TN) / total\n",
    "\n",
    "案例：预测100个负样本，其中99个预测正确，1个预测不正确\n",
    "accuracy = 99 / 100\n",
    "\n",
    "!总体预测准确性"
   ]
  },
  {
   "cell_type": "code",
   "execution_count": null,
   "metadata": {},
   "outputs": [],
   "source": [
    "#precision: 精准率——预测正类（关注的类）的准确性\n",
    "precision = TP / (TP + FP)\n",
    "\n",
    "案例：预测出50个正样本，其中40个预测正确\n",
    "precision = 40 / 50\n",
    "\n",
    "!我们关注样本（正样本）的预测准确性越高，选用该值\n",
    "!宁缺毋滥原则下的问题，可用这个值"
   ]
  },
  {
   "cell_type": "code",
   "execution_count": null,
   "metadata": {},
   "outputs": [],
   "source": [
    "#recall：召回率——还有多少正类没有被找出来\n",
    "recall = TP / (TP + FN)\n",
    "\n",
    "案例： 预测60个正样本，预测正确50个，还有20个正样本被预测称负样本\n",
    "recall = 50 / (50 + 20)\n",
    "\n",
    "!我们关注样本（正样本）希望能尽可能多的被找出来，选用该值"
   ]
  },
  {
   "cell_type": "code",
   "execution_count": null,
   "metadata": {},
   "outputs": [],
   "source": [
    "#f1-score: fi调和平均数\n",
    "f1 = 2/((1/precision) + (1/recall))"
   ]
  },
  {
   "cell_type": "code",
   "execution_count": null,
   "metadata": {},
   "outputs": [],
   "source": [
    "案例：预测100个数据，其中40个预测为正样本，预测正确30个，预测负样本60个，预测正确40个\n",
    "accuracy = (30+40) / 100 = 70%\n",
    "precision = 30/40 = 75%\n",
    "racall = 30/(30 + 20) = 60%\n",
    "f1 = 2/(1/75% + 1/60%)"
   ]
  },
  {
   "cell_type": "code",
   "execution_count": null,
   "metadata": {},
   "outputs": [],
   "source": []
  }
 ],
 "metadata": {
  "kernelspec": {
   "display_name": "Python 3",
   "language": "python",
   "name": "python3"
  },
  "language_info": {
   "codemirror_mode": {
    "name": "ipython",
    "version": 3
   },
   "file_extension": ".py",
   "mimetype": "text/x-python",
   "name": "python",
   "nbconvert_exporter": "python",
   "pygments_lexer": "ipython3",
   "version": "3.7.3"
  }
 },
 "nbformat": 4,
 "nbformat_minor": 2
}
